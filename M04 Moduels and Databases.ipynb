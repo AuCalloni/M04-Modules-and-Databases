{
 "cells": [
  {
   "metadata": {},
   "cell_type": "markdown",
   "source": "11.1 Create a file called zoo.py. In it, define a function called hours() that prints the string 'Open 9-5 daily'. Then, use the interactive interpreter to import the zoo module and call its hours() function.",
   "id": "411f3776cf805dc4"
  },
  {
   "cell_type": "code",
   "id": "initial_id",
   "metadata": {
    "collapsed": true,
    "ExecuteTime": {
     "end_time": "2024-06-24T20:16:20.207300Z",
     "start_time": "2024-06-24T20:16:20.203144Z"
    }
   },
   "source": [
    "import zoo\n",
    "zoo.hours()"
   ],
   "outputs": [
    {
     "name": "stdout",
     "output_type": "stream",
     "text": [
      "Open 9-5 daily.\n"
     ]
    }
   ],
   "execution_count": 5
  },
  {
   "metadata": {},
   "cell_type": "markdown",
   "source": "11.2 In the interactive interpreter, import the zoo module as menagerie and call its hours() function.",
   "id": "10969fb0d804b9fc"
  },
  {
   "metadata": {
    "ExecuteTime": {
     "end_time": "2024-06-24T20:16:24.349437Z",
     "start_time": "2024-06-24T20:16:24.346383Z"
    }
   },
   "cell_type": "code",
   "source": [
    "import zoo as menagerie\n",
    "menagerie.hours()"
   ],
   "id": "b04e72e39e981a91",
   "outputs": [
    {
     "name": "stdout",
     "output_type": "stream",
     "text": [
      "Open 9-5 daily.\n"
     ]
    }
   ],
   "execution_count": 6
  },
  {
   "metadata": {},
   "cell_type": "markdown",
   "source": [
    "16.4: This isn't listed as a requirement in our module, but 16.8 requires this to be done\n",
    "\n",
    "16.4 Use the sqlite3 module to create a SQLite database called books.db and a table called books with these fields: title (text), author (text), and year (integer)."
   ],
   "id": "1583520bd01f0d4"
  },
  {
   "metadata": {
    "ExecuteTime": {
     "end_time": "2024-06-24T20:55:08.846275Z",
     "start_time": "2024-06-24T20:55:08.836034Z"
    }
   },
   "cell_type": "code",
   "source": [
    "import sqlite3\n",
    "con = sqlite3.connect(\"books.db\")\n",
    "#SQLite needs a cursor object to interact with the database.\n",
    "cur = con.cursor()\n",
    "#Create our table\n",
    "cur.execute(\"\"\"CREATE TABLE books(\n",
    "            title text, \n",
    "            author text, \n",
    "            year integer)\n",
    "\"\"\")\n"
   ],
   "id": "8d7d18592c2f786a",
   "outputs": [
    {
     "ename": "OperationalError",
     "evalue": "table books already exists",
     "output_type": "error",
     "traceback": [
      "\u001B[1;31m---------------------------------------------------------------------------\u001B[0m",
      "\u001B[1;31mOperationalError\u001B[0m                          Traceback (most recent call last)",
      "Cell \u001B[1;32mIn[6], line 6\u001B[0m\n\u001B[0;32m      4\u001B[0m cur \u001B[38;5;241m=\u001B[39m con\u001B[38;5;241m.\u001B[39mcursor()\n\u001B[0;32m      5\u001B[0m \u001B[38;5;66;03m#Create our table\u001B[39;00m\n\u001B[1;32m----> 6\u001B[0m \u001B[43mcur\u001B[49m\u001B[38;5;241;43m.\u001B[39;49m\u001B[43mexecute\u001B[49m\u001B[43m(\u001B[49m\u001B[38;5;124;43m\"\"\"\u001B[39;49m\u001B[38;5;124;43mCREATE TABLE books(\u001B[39;49m\n\u001B[0;32m      7\u001B[0m \u001B[38;5;124;43m            title text, \u001B[39;49m\n\u001B[0;32m      8\u001B[0m \u001B[38;5;124;43m            author text, \u001B[39;49m\n\u001B[0;32m      9\u001B[0m \u001B[38;5;124;43m            year integer)\u001B[39;49m\n\u001B[0;32m     10\u001B[0m \u001B[38;5;124;43m\"\"\"\u001B[39;49m\u001B[43m)\u001B[49m\n",
      "\u001B[1;31mOperationalError\u001B[0m: table books already exists"
     ]
    }
   ],
   "execution_count": 6
  },
  {
   "metadata": {},
   "cell_type": "markdown",
   "source": "16.8 Use the sqlalchemy module to connect to the sqlite3 database books.db that you just made in exercise 16.4. As in 16.6, select and print the title column from the book table in alphabetical order.\n",
   "id": "46910c2ad7be00f3"
  },
  {
   "metadata": {
    "ExecuteTime": {
     "end_time": "2024-06-24T20:30:48.466061Z",
     "start_time": "2024-06-24T20:30:43.563370Z"
    }
   },
   "cell_type": "code",
   "source": "!pip install sqlalchemy",
   "id": "69c363f762294615",
   "outputs": [
    {
     "name": "stdout",
     "output_type": "stream",
     "text": [
      "Collecting sqlalchemy\n",
      "  Obtaining dependency information for sqlalchemy from https://files.pythonhosted.org/packages/d0/ff/5746886a796799d45285573c8a6564b4b84c730142ab974d7a3f7bacee6c/SQLAlchemy-2.0.31-cp312-cp312-win_amd64.whl.metadata\n",
      "  Downloading SQLAlchemy-2.0.31-cp312-cp312-win_amd64.whl.metadata (9.9 kB)\n",
      "Collecting typing-extensions>=4.6.0 (from sqlalchemy)\n",
      "  Obtaining dependency information for typing-extensions>=4.6.0 from https://files.pythonhosted.org/packages/26/9f/ad63fc0248c5379346306f8668cda6e2e2e9c95e01216d2b8ffd9ff037d0/typing_extensions-4.12.2-py3-none-any.whl.metadata\n",
      "  Downloading typing_extensions-4.12.2-py3-none-any.whl.metadata (3.0 kB)\n",
      "Collecting greenlet!=0.4.17 (from sqlalchemy)\n",
      "  Obtaining dependency information for greenlet!=0.4.17 from https://files.pythonhosted.org/packages/53/80/3d94d5999b4179d91bcc93745d1b0815b073d61be79dd546b840d17adb18/greenlet-3.0.3-cp312-cp312-win_amd64.whl.metadata\n",
      "  Downloading greenlet-3.0.3-cp312-cp312-win_amd64.whl.metadata (3.9 kB)\n",
      "Downloading SQLAlchemy-2.0.31-cp312-cp312-win_amd64.whl (2.1 MB)\n",
      "   ---------------------------------------- 0.0/2.1 MB ? eta -:--:--\n",
      "    --------------------------------------- 0.0/2.1 MB 991.0 kB/s eta 0:00:03\n",
      "   ----- ---------------------------------- 0.3/2.1 MB 3.8 MB/s eta 0:00:01\n",
      "   ------------ --------------------------- 0.6/2.1 MB 5.0 MB/s eta 0:00:01\n",
      "   ------------------ --------------------- 1.0/2.1 MB 5.7 MB/s eta 0:00:01\n",
      "   -------------------------- ------------- 1.4/2.1 MB 6.3 MB/s eta 0:00:01\n",
      "   ---------------------------------- ----- 1.8/2.1 MB 6.8 MB/s eta 0:00:01\n",
      "   ---------------------------------------- 2.1/2.1 MB 7.0 MB/s eta 0:00:00\n",
      "Downloading greenlet-3.0.3-cp312-cp312-win_amd64.whl (293 kB)\n",
      "   ---------------------------------------- 0.0/293.6 kB ? eta -:--:--\n",
      "   ---------------------------------------- 293.6/293.6 kB 9.1 MB/s eta 0:00:00\n",
      "Downloading typing_extensions-4.12.2-py3-none-any.whl (37 kB)\n",
      "Installing collected packages: typing-extensions, greenlet, sqlalchemy\n",
      "Successfully installed greenlet-3.0.3 sqlalchemy-2.0.31 typing-extensions-4.12.2\n"
     ]
    },
    {
     "name": "stderr",
     "output_type": "stream",
     "text": [
      "\n",
      "[notice] A new release of pip is available: 23.2.1 -> 24.1\n",
      "[notice] To update, run: python.exe -m pip install --upgrade pip\n"
     ]
    }
   ],
   "execution_count": 3
  },
  {
   "metadata": {
    "ExecuteTime": {
     "end_time": "2024-06-24T22:15:47.651989Z",
     "start_time": "2024-06-24T22:15:47.637991Z"
    }
   },
   "cell_type": "code",
   "source": [
    "import sqlalchemy as sa\n",
    "import csv\n",
    "\n",
    "#Create our engine and connect to the books database.\n",
    "engine = sa.create_engine('sqlite:///books.db')\n",
    "\n",
    "#Create metadata since our table already exists.\n",
    "meta = sa.MetaData()\n",
    "\n",
    "#Call the table method and plug in our connection to autoload_with since our database already exists.\n",
    "books = sa.Table('books', meta, autoload_with=engine)\n",
    "\n",
    "#Data to write to the csv file from our textbook.\n",
    "write_data = \"\"\"\n",
    "title,author,year\n",
    "The Weirdstone of Brisingamen,Alan Garner,1960\n",
    "Perdido Street Station,China Miéville,2000\n",
    "Thud!,Terry Pratchett,2005\n",
    "The Spellman Files,Lisa Lutz,2007\n",
    "Small Gods,Terry Pratchett,1992\n",
    "\"\"\"\n",
    "\n",
    "#Return an iterable list delimited by the newline separator\n",
    "lines = write_data.strip().split('\\n')\n",
    "\n",
    "#Write to our csv file\n",
    "with open('books2.csv', 'w', newline='') as f:\n",
    "    writer=csv.writer(f)\n",
    "    #Iterate over our lines list\n",
    "    for line in lines:\n",
    "        #Our delimiter per line is the comma. \n",
    "        writer.writerow(line.split(','))\n",
    "\n",
    "\n",
    "#Read our CSV file and store it in a list\n",
    "with open('books2.csv', 'rt', newline='') as f:\n",
    "    reader = csv.DictReader(f) \n",
    "    results = [row for row in reader]\n",
    "\n",
    "#Insert our csv data into the database\n",
    "with engine.connect() as connection:\n",
    "    for row in results:\n",
    "        connection.execute(books.insert(), row)\n",
    "    \n",
    "    #Generate a sql statement to query, and return alphabetical titles.\n",
    "    stmt = sa.select(sa.func.concat(\"Title: \", books.c.title).label(\"title\")).select_from(books).order_by(books.c.title)\n",
    "    \n",
    "    results = connection.execute(stmt).fetchall()\n",
    "    for result in results:\n",
    "        print(result.title)"
   ],
   "id": "9d829a5d29360885",
   "outputs": [
    {
     "name": "stdout",
     "output_type": "stream",
     "text": [
      "Title: Perdido Street Station\n",
      "Title: Small Gods\n",
      "Title: The Spellman Files\n",
      "Title: The Weirdstone of Brisingamen\n",
      "Title: Thud!\n"
     ]
    }
   ],
   "execution_count": 43
  },
  {
   "metadata": {},
   "cell_type": "code",
   "outputs": [],
   "execution_count": null,
   "source": "",
   "id": "49384c0fa149fce2"
  }
 ],
 "metadata": {
  "kernelspec": {
   "display_name": "Python 3",
   "language": "python",
   "name": "python3"
  },
  "language_info": {
   "codemirror_mode": {
    "name": "ipython",
    "version": 2
   },
   "file_extension": ".py",
   "mimetype": "text/x-python",
   "name": "python",
   "nbconvert_exporter": "python",
   "pygments_lexer": "ipython2",
   "version": "2.7.6"
  }
 },
 "nbformat": 4,
 "nbformat_minor": 5
}
